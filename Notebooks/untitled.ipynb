{
 "cells": [
  {
   "cell_type": "code",
   "execution_count": 1,
   "metadata": {},
   "outputs": [],
   "source": [
    "import sys\n",
    "import os\n",
    "sys.path.append('./../aws')\n",
    "\n",
    "from datetime import datetime\n",
    "import pandas as pd\n",
    "from aws import Athena, S3"
   ]
  },
  {
   "cell_type": "code",
   "execution_count": 2,
   "metadata": {},
   "outputs": [],
   "source": [
    "QueryPath = '/home/delvira/OneDrive/00_AWS/aws/scripts/query.sql'"
   ]
  },
  {
   "cell_type": "code",
   "execution_count": 8,
   "metadata": {},
   "outputs": [
    {
     "ename": "AssertionError",
     "evalue": "query expected QueryPath or QueryString",
     "output_type": "error",
     "traceback": [
      "\u001b[0;31m---------------------------------------------------------------------------\u001b[0m",
      "\u001b[0;31mAssertionError\u001b[0m                            Traceback (most recent call last)",
      "Cell \u001b[0;32mIn[8], line 2\u001b[0m\n\u001b[1;32m      1\u001b[0m athena \u001b[39m=\u001b[39m Athena()\n\u001b[0;32m----> 2\u001b[0m data \u001b[39m=\u001b[39m athena\u001b[39m.\u001b[39;49mquery(DataBase\u001b[39m=\u001b[39;49m\u001b[39m'\u001b[39;49m\u001b[39mdatos_tinsa\u001b[39;49m\u001b[39m'\u001b[39;49m, Catalog\u001b[39m=\u001b[39;49m\u001b[39m'\u001b[39;49m\u001b[39mAwsDataCatalog\u001b[39;49m\u001b[39m'\u001b[39;49m)\n",
      "File \u001b[0;32m~/OneDrive/00_AWS/aws/Notebooks/./../aws/aws.py:92\u001b[0m, in \u001b[0;36mAthena.query\u001b[0;34m(self, DataBase, Catalog, QueryString, QueryPath)\u001b[0m\n\u001b[1;32m     68\u001b[0m \u001b[39mdef\u001b[39;00m \u001b[39mquery\u001b[39m(\n\u001b[1;32m     69\u001b[0m     \u001b[39mself\u001b[39m, \n\u001b[1;32m     70\u001b[0m     DataBase: \u001b[39mstr\u001b[39m,\n\u001b[1;32m     71\u001b[0m     Catalog: \u001b[39mstr\u001b[39m,\n\u001b[1;32m     72\u001b[0m     QueryString: \u001b[39mstr\u001b[39m \u001b[39m=\u001b[39m \u001b[39mNone\u001b[39;00m,\n\u001b[1;32m     73\u001b[0m     QueryPath: \u001b[39mstr\u001b[39m \u001b[39m=\u001b[39m \u001b[39mNone\u001b[39;00m) \u001b[39m-\u001b[39m\u001b[39m>\u001b[39m pd\u001b[39m.\u001b[39mDataFrame:\n\u001b[1;32m     74\u001b[0m \u001b[39m    \u001b[39m\u001b[39m\"\"\"Query AWS Athena and return Pandas DataFrame\u001b[39;00m\n\u001b[1;32m     75\u001b[0m \n\u001b[1;32m     76\u001b[0m \u001b[39m    Parameters\u001b[39;00m\n\u001b[0;32m   (...)\u001b[0m\n\u001b[1;32m     90\u001b[0m \u001b[39m        Return table as Pandas Data Frame\u001b[39;00m\n\u001b[1;32m     91\u001b[0m \u001b[39m    \"\"\"\u001b[39;00m\n\u001b[0;32m---> 92\u001b[0m     \u001b[39massert\u001b[39;00m \u001b[39many\u001b[39m([QueryString, QueryPath]), \u001b[39m\"\u001b[39m\u001b[39mquery expected QueryPath or QueryString\u001b[39m\u001b[39m\"\u001b[39m\n\u001b[1;32m     93\u001b[0m     \u001b[39massert\u001b[39;00m \u001b[39mnot\u001b[39;00m \u001b[39mall\u001b[39m([QueryString, QueryPath]), \u001b[39m\"\u001b[39m\u001b[39mquery expected one of QueryString or QueryPath not both\u001b[39m\u001b[39m\"\u001b[39m\n\u001b[1;32m     95\u001b[0m     \u001b[39mif\u001b[39;00m QueryPath:\n",
      "\u001b[0;31mAssertionError\u001b[0m: query expected QueryPath or QueryString"
     ]
    }
   ],
   "source": [
    "athena = Athena()\n",
    "data = athena.query(DataBase='datos_tinsa', Catalog='AwsDataCatalog')"
   ]
  }
 ],
 "metadata": {
  "kernelspec": {
   "display_name": "Python 3",
   "language": "python",
   "name": "python3"
  },
  "language_info": {
   "codemirror_mode": {
    "name": "ipython",
    "version": 3
   },
   "file_extension": ".py",
   "mimetype": "text/x-python",
   "name": "python",
   "nbconvert_exporter": "python",
   "pygments_lexer": "ipython3",
   "version": "3.10.9"
  },
  "orig_nbformat": 4,
  "vscode": {
   "interpreter": {
    "hash": "a0e7acfebc7b131bf1c625a436fe2b2ac36d6f6f1e11bf9d0218207aa0191c97"
   }
  }
 },
 "nbformat": 4,
 "nbformat_minor": 2
}
